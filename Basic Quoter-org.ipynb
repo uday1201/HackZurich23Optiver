{
 "cells": [
  {
   "cell_type": "markdown",
   "id": "2f01be45-e744-42c9-ab88-03387b7a8ac5",
   "metadata": {},
   "source": [
    "# Imports & Setup"
   ]
  },
  {
   "cell_type": "code",
   "execution_count": 3,
   "id": "5aa9c918-0e4d-479f-8844-4561993923bd",
   "metadata": {},
   "outputs": [],
   "source": [
    "import datetime as dt\n",
    "import time\n",
    "import random\n",
    "import logging\n",
    "\n",
    "from optibook.synchronous_client import Exchange\n",
    "from libs import print_positions_and_pnl, round_down_to_tick, round_up_to_tick\n",
    "\n",
    "from IPython.display import clear_output\n",
    "\n",
    "logging.getLogger('client').setLevel('ERROR')    "
   ]
  },
  {
   "cell_type": "markdown",
   "id": "46d6720f-be57-4e67-a95a-9b6458feda69",
   "metadata": {},
   "source": [
    "# Function definitions"
   ]
  },
  {
   "cell_type": "code",
   "execution_count": 4,
   "id": "b5b95598-04a6-483a-aca8-747daee029f9",
   "metadata": {},
   "outputs": [],
   "source": [
    "def insert_quotes(exchange, instrument, bid_price, ask_price, bid_volume, ask_volume):\n",
    "    if bid_volume > 0:\n",
    "        # Insert new bid limit order on the market\n",
    "        exchange.insert_order(\n",
    "            instrument_id=instrument.instrument_id,\n",
    "            price=bid_price,\n",
    "            volume=bid_volume,\n",
    "            side='bid',\n",
    "            order_type='limit',\n",
    "        )\n",
    "        \n",
    "        # Wait for some time to avoid breaching the exchange frequency limit\n",
    "        time.sleep(0.05)\n",
    "\n",
    "    if ask_volume > 0:\n",
    "        # Insert new ask limit order on the market\n",
    "        exchange.insert_order(\n",
    "            instrument_id=instrument.instrument_id,\n",
    "            price=ask_price,\n",
    "            volume=ask_volume,\n",
    "            side='ask',\n",
    "            order_type='limit',\n",
    "        )\n",
    "\n",
    "        # Wait for some time to avoid breaching the exchange frequency limit\n",
    "        time.sleep(0.05)"
   ]
  },
  {
   "cell_type": "markdown",
   "id": "05149b7e-70af-4e87-ac46-f396aa18bfe6",
   "metadata": {},
   "source": [
    "# Main algorithm"
   ]
  },
  {
   "cell_type": "code",
   "execution_count": null,
   "id": "a6119903-45f3-4f9e-847f-4340b33be0bf",
   "metadata": {},
   "outputs": [
    {
     "name": "stdout",
     "output_type": "stream",
     "text": [
      "\n",
      "-----------------------------------------------------------------\n",
      "TRADE LOOP ITERATION ENTERED AT 2023-09-15 23:25:06.956217 UTC.\n",
      "-----------------------------------------------------------------\n",
      "Positions:\n",
      "  NVDA      :   30\n",
      "  ING       :    0\n",
      "  SAN       :  -10\n",
      "  PFE       :    0\n",
      "  CSCO      :   -5\n",
      "\n",
      "PnL: -123.00\n",
      "\n",
      "          (ourbid) mktbid :: mktask (ourask)\n",
      "  CSCO -- ( 66.60)  66.70 ::  66.90 ( 67.00)\n",
      "   PFE -- ( 21.60)  21.70 ::  21.80 ( 21.90)\n",
      "   SAN -- ( 56.40)  56.40 ::  56.60 ( 56.70)\n"
     ]
    }
   ],
   "source": [
    "exchange = Exchange()\n",
    "exchange.connect()\n",
    "\n",
    "INSTRUMENTS = exchange.get_instruments()\n",
    "\n",
    "QUOTED_VOLUME = 10\n",
    "FIXED_MINIMUM_CREDIT = 0.15\n",
    "PRICE_RETREAT_PER_LOT = 0.005\n",
    "POSITION_LIMIT = 100\n",
    "\n",
    "while True:\n",
    "    print(f'')\n",
    "    print(f'-----------------------------------------------------------------')\n",
    "    print(f'TRADE LOOP ITERATION ENTERED AT {str(dt.datetime.now()):18s} UTC.')\n",
    "    print(f'-----------------------------------------------------------------')\n",
    "\n",
    "    # Display our own current positions in all stocks, and our PnL so far\n",
    "    print_positions_and_pnl(exchange)\n",
    "    print(f'')\n",
    "    print(f'          (ourbid) mktbid :: mktask (ourask)')\n",
    "    \n",
    "    for instrument in INSTRUMENTS.values():\n",
    "        # Remove all existing (still) outstanding limit orders\n",
    "        exchange.delete_orders(instrument.instrument_id)\n",
    "    \n",
    "        # Obtain order book and only skip this instrument if there are no bids or offers available at all on that instrument,\n",
    "        # as we we want to use the mid price to determine our own quoted price\n",
    "        instrument_order_book = exchange.get_last_price_book(instrument.instrument_id)\n",
    "        if not (instrument_order_book and instrument_order_book.bids and instrument_order_book.asks):\n",
    "            print(f'{instrument.instrument_id:>6s} --     INCOMPLETE ORDER BOOK')\n",
    "            continue\n",
    "    \n",
    "        # Obtain own current position in instrument\n",
    "        position = exchange.get_positions()[instrument.instrument_id]\n",
    "\n",
    "        # Obtain best bid and ask prices from order book to determine mid price\n",
    "        best_bid_price = instrument_order_book.bids[0].price\n",
    "        best_ask_price = instrument_order_book.asks[0].price\n",
    "        mid_price = (best_bid_price + best_ask_price) / 2.0 \n",
    "        \n",
    "        # Calculate our fair/theoretical price based on the market mid price and our current position\n",
    "        theoretical_price = mid_price - PRICE_RETREAT_PER_LOT * position\n",
    "\n",
    "        # Calculate final bid and ask prices to insert\n",
    "        bid_price = round_down_to_tick(theoretical_price - FIXED_MINIMUM_CREDIT, instrument.tick_size)\n",
    "        ask_price = round_up_to_tick(theoretical_price + FIXED_MINIMUM_CREDIT, instrument.tick_size)\n",
    "        \n",
    "        # Calculate bid and ask volumes to insert, taking into account the exchange position_limit\n",
    "        max_volume_to_buy = POSITION_LIMIT - position\n",
    "        max_volume_to_sell = POSITION_LIMIT + position\n",
    "\n",
    "        bid_volume = min(QUOTED_VOLUME, max_volume_to_buy)\n",
    "        ask_volume = min(QUOTED_VOLUME, max_volume_to_sell)\n",
    "\n",
    "        # Display information for tracking the algorithm's actions\n",
    "        print(f'{instrument.instrument_id:>6s} -- ({bid_price:>6.2f}) {best_bid_price:>6.2f} :: {best_ask_price:>6.2f} ({ask_price:>6.2f})')\n",
    "        \n",
    "        # Insert new quotes\n",
    "        insert_quotes(exchange, instrument, bid_price, ask_price, bid_volume, ask_volume)\n",
    "        \n",
    "    # Wait for a few seconds to refresh the quotes\n",
    "    print(f'\\nWaiting for 2 seconds.')\n",
    "    time.sleep(2)\n",
    "    \n",
    "    # Clear the displayed information after waiting\n",
    "    clear_output(wait=True)"
   ]
  },
  {
   "cell_type": "raw",
   "id": "9fe7bd09-4c61-4676-a4d6-abf614314dc7",
   "metadata": {},
   "source": []
  }
 ],
 "metadata": {
  "kernelspec": {
   "display_name": "Python 3",
   "language": "python",
   "name": "python3"
  },
  "language_info": {
   "codemirror_mode": {
    "name": "ipython",
    "version": 3
   },
   "file_extension": ".py",
   "mimetype": "text/x-python",
   "name": "python",
   "nbconvert_exporter": "python",
   "pygments_lexer": "ipython3",
   "version": "3.6.12"
  }
 },
 "nbformat": 4,
 "nbformat_minor": 5
}
