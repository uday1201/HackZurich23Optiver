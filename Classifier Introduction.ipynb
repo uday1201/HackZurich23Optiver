{
 "cells": [
  {
   "cell_type": "markdown",
   "id": "22bb10a5-277f-4467-9fcb-bc9af3108fa3",
   "metadata": {},
   "source": [
    "# Introduction"
   ]
  },
  {
   "cell_type": "markdown",
   "id": "db4c62fe-f6ab-4e14-8e3f-70da4e67b86a",
   "metadata": {},
   "source": [
    "In this notebook we introduce the methodology of using an open source language model (classifier) to classify strings into a set of arbitrary categories. \n",
    "\n",
    "The language model we will use is pretrained on a large dataset (just like the models underpinning OpenAI's recently famous ChatGPT interface). This model in particular has been trained and released by Facebook and has been optimized on the task of classification instead of text generation, but the underlying techniques are similar. It therefore is able to perform the tasks we want directly out-of-the-box without any further tweaking!\n",
    "\n",
    "Classification is the act of assigning a probability between one and zero to a (set of) label(s) being applicable to a string of text. \n",
    "\n",
    "To give an example, the sentence \"The sun is out today.\" seems pretty happy. If a person were asked to give it a score on \"happiness\", they might assign it a score of 90%. But what about the sentence \"It is raining outside..\"? That perhaps should score only 10%, if not lower. The language model we use will be able to draw similar conclusions automatically based on it's understanding of the English language.\n",
    "\n",
    "Let's get started!"
   ]
  },
  {
   "cell_type": "markdown",
   "id": "1ffab154-1832-452b-b636-454dba5c6f37",
   "metadata": {},
   "source": [
    "# Setup"
   ]
  },
  {
   "cell_type": "code",
   "execution_count": 9,
   "id": "2bdb8a69-93ef-4259-99b6-0b6bcd4914f3",
   "metadata": {},
   "outputs": [],
   "source": [
    "# Import the pipeline helper from the transformers package, which we will use to load our model\n",
    "from transformers import pipeline"
   ]
  },
  {
   "cell_type": "code",
   "execution_count": 10,
   "id": "9282ec5a-959b-4ae3-a240-2ec3bf0da407",
   "metadata": {},
   "outputs": [],
   "source": [
    "# Download and instantiate the facebook/bart-large-mlni model and pipeline. The first time this cell runs, it downloads a large file containing the model weights (1.5GB of parameters all in all!). \n",
    "# Let it finish and from then on it will be cached on disk.\n",
    "\n",
    "# Stay aware that this model instantiation uses a lot of memory/RAM, as it has to load the full 1.5GB of model parameters. If you load the model as below in several notebooks at the same time, you might overload your box. \n",
    "# To avoid this, when you're done with a notebook, close it's \"kernel\" on the left side of the Jupyterlabs interface (The second icon. circle with a square inside, selects the active kernels). This unloads the model from memory.\n",
    "\n",
    "c = pipeline('zero-shot-classification', model='facebook/bart-large-mnli')"
   ]
  },
  {
   "cell_type": "markdown",
   "id": "b60d6557-54a4-4909-8e04-1db2efe6a392",
   "metadata": {},
   "source": [
    "# Testing whether a label is applicable"
   ]
  },
  {
   "cell_type": "markdown",
   "id": "8f345799-94c9-469a-b5e8-c50b5f215543",
   "metadata": {},
   "source": [
    "Let's see if we can replicate the ideas above. Is the sentence \"The sun is out today!\" indeed classifiably happy?\n",
    "\n",
    "To do so, we use the defined interface of our classifier, which takes (at least) the following arguments: a sentence, a list of labels.\n",
    "\n",
    "Perhaps it's easier to just look at an example!"
   ]
  },
  {
   "cell_type": "code",
   "execution_count": 11,
   "id": "e66500d8-9997-4607-85a7-b9c5d309cd36",
   "metadata": {},
   "outputs": [
    {
     "data": {
      "text/plain": [
       "{'sequence': 'The sun is out today :)',\n",
       " 'labels': ['Happy'],\n",
       " 'scores': [0.9907214641571045]}"
      ]
     },
     "execution_count": 11,
     "metadata": {},
     "output_type": "execute_result"
    }
   ],
   "source": [
    "c('The sun is out today :)', ['Happy'])"
   ]
  },
  {
   "cell_type": "markdown",
   "id": "1929fea5-d565-4f71-ac7d-65d22f78b1f5",
   "metadata": {},
   "source": [
    "Great result! It looks like our sentence is indeed very happy. With a score of almost 96%, it doesn't get much happier than that.\n",
    "\n",
    "Challenge: Can you find a way to modify the sentence such that it is even happier?"
   ]
  },
  {
   "cell_type": "code",
   "execution_count": 12,
   "id": "8e373e50-9430-412f-9608-7242e9fa7b21",
   "metadata": {},
   "outputs": [
    {
     "data": {
      "text/plain": [
       "{'sequence': 'The sun is out today.',\n",
       " 'labels': ['Happy'],\n",
       " 'scores': [0.958601176738739]}"
      ]
     },
     "execution_count": 12,
     "metadata": {},
     "output_type": "execute_result"
    }
   ],
   "source": [
    "# Modify the sentence to something even happier\n",
    "c('The sun is out today.', ['Happy'])"
   ]
  },
  {
   "cell_type": "markdown",
   "id": "9f09d4a4-dd0d-44da-8f31-da7e66758015",
   "metadata": {},
   "source": [
    "And how about our \"unhappy\" sentence, will it indeed agree?"
   ]
  },
  {
   "cell_type": "code",
   "execution_count": 13,
   "id": "be6676ad-381d-4ad0-8037-5fec1ac00fe2",
   "metadata": {},
   "outputs": [
    {
     "data": {
      "text/plain": [
       "{'sequence': 'It is raining outside..',\n",
       " 'labels': ['Happy'],\n",
       " 'scores': [0.00019142446399200708]}"
      ]
     },
     "execution_count": 13,
     "metadata": {},
     "output_type": "execute_result"
    }
   ],
   "source": [
    "c('It is raining outside..', ['Happy'])"
   ]
  },
  {
   "cell_type": "markdown",
   "id": "7c2332b4-71b1-4f3e-9703-910abfa25d41",
   "metadata": {},
   "source": [
    "Nobody likes rain.."
   ]
  },
  {
   "cell_type": "markdown",
   "id": "faf869ae-03e7-48d2-8f41-98bd9ce67d7e",
   "metadata": {},
   "source": [
    "# Multiple labels"
   ]
  },
  {
   "cell_type": "markdown",
   "id": "4f3f32bb-e819-4081-8186-d75cbd376962",
   "metadata": {},
   "source": [
    "If that's not a happy sentence, then perhaps we can conclude it's a sad one? Does our model agree?\n",
    "\n",
    "We can ask it to make a choice between several available labels."
   ]
  },
  {
   "cell_type": "code",
   "execution_count": 14,
   "id": "c8183e66-5fac-415a-a9c8-7b80efd5a7d2",
   "metadata": {},
   "outputs": [
    {
     "data": {
      "text/plain": [
       "{'sequence': 'It is raining outside..',\n",
       " 'labels': ['Sad', 'Happy'],\n",
       " 'scores': [0.9559348821640015, 0.04406508430838585]}"
      ]
     },
     "execution_count": 14,
     "metadata": {},
     "output_type": "execute_result"
    }
   ],
   "source": [
    "c('It is raining outside..', ['Happy', 'Sad'])"
   ]
  },
  {
   "cell_type": "markdown",
   "id": "a0417f3b-b1e1-4f72-b653-b78281b620c8",
   "metadata": {},
   "source": [
    "The mathematics of the model work out slightly differently to before for multi-labeling, but the conclusion remains the same, it certainly considers the sentence to be much more sad than happy.\n",
    "\n",
    "What about other labels, like wet, dry, high, low and colorful or gray?"
   ]
  },
  {
   "cell_type": "markdown",
   "id": "02f1a133-fa29-4cb8-b868-0fd6cb10cc4b",
   "metadata": {},
   "source": [
    "c('It is raining outside..', ['Happy', 'Sad', 'Wet', 'Dry', 'High', 'Low', 'Colorful', 'Gray'])"
   ]
  },
  {
   "cell_type": "markdown",
   "id": "1e6f9bcf-cd67-4339-b700-0d29e9571751",
   "metadata": {},
   "source": [
    "Hard question, but a clear and agreeable answer, it's more Wet than any other of those labels. But isn't rain both wet and sad?\n",
    "\n",
    "To answer that question we can ask the model to assign a probability per label, rather than forcing it to make a choice. Note that in the above result, all label probabilities add up to 100%."
   ]
  },
  {
   "cell_type": "code",
   "execution_count": 15,
   "id": "dbd295c6-e9e9-40b4-9c4a-da2668690408",
   "metadata": {},
   "outputs": [
    {
     "data": {
      "text/plain": [
       "{'sequence': 'It is raining outside..',\n",
       " 'labels': ['Wet', 'Sad', 'Low', 'Gray', 'High', 'Colorful', 'Dry', 'Happy'],\n",
       " 'scores': [0.9990817308425903,\n",
       "  0.8136840462684631,\n",
       "  0.7355218529701233,\n",
       "  0.41334474086761475,\n",
       "  0.03862270340323448,\n",
       "  0.001768096350133419,\n",
       "  0.0003273721958976239,\n",
       "  0.00019142446399200708]}"
      ]
     },
     "execution_count": 15,
     "metadata": {},
     "output_type": "execute_result"
    }
   ],
   "source": [
    "c('It is raining outside..', ['Happy', 'Sad', 'Wet', 'Dry', 'High', 'Low', 'Colorful', 'Gray'], multi_label=True)"
   ]
  },
  {
   "cell_type": "markdown",
   "id": "ca57c325-c81a-47ab-b04e-46faca0bee23",
   "metadata": {},
   "source": [
    "This makes sense!"
   ]
  },
  {
   "cell_type": "markdown",
   "id": "cd26a92f-97f6-48e6-90fa-0fabedd11f34",
   "metadata": {},
   "source": [
    "# Edge cases"
   ]
  },
  {
   "cell_type": "markdown",
   "id": "005b9579-72ce-4feb-b9b9-d5db2c20c306",
   "metadata": {},
   "source": [
    "Negatiation. Surely, if rain is bad, then the opposite should be good?"
   ]
  },
  {
   "cell_type": "code",
   "execution_count": 16,
   "id": "c5214a1f-b06b-4a4d-9b85-e730b5ee759c",
   "metadata": {},
   "outputs": [
    {
     "data": {
      "text/plain": [
       "{'sequence': 'It is not raining outside..',\n",
       " 'labels': ['Happy', 'Sad'],\n",
       " 'scores': [0.8534077405929565, 0.14659228920936584]}"
      ]
     },
     "execution_count": 16,
     "metadata": {},
     "output_type": "execute_result"
    }
   ],
   "source": [
    "c('It is not raining outside..', ['Happy', 'Sad'])"
   ]
  },
  {
   "cell_type": "markdown",
   "id": "10dbc2ff-1a5c-4f2a-a2a1-633be41d1209",
   "metadata": {},
   "source": [
    "It depends on the context though, and the model can handle that pretty well too."
   ]
  },
  {
   "cell_type": "code",
   "execution_count": 9,
   "id": "fc09673c-79a5-4109-b69d-2a6901db4dda",
   "metadata": {},
   "outputs": [
    {
     "data": {
      "text/plain": [
       "{'sequence': 'After the drought it is finally raining outside..',\n",
       " 'labels': ['Happy', 'Sad'],\n",
       " 'scores': [0.7387931942939758, 0.2612067759037018]}"
      ]
     },
     "execution_count": 9,
     "metadata": {},
     "output_type": "execute_result"
    }
   ],
   "source": [
    "c('After the drought it is finally raining outside..', ['Happy', 'Sad'])"
   ]
  },
  {
   "cell_type": "markdown",
   "id": "0a1db0e4-1dc9-4407-bcdf-b58f26928681",
   "metadata": {},
   "source": [
    "# Multiple sentences/strings"
   ]
  },
  {
   "cell_type": "markdown",
   "id": "527a0591-989e-40c9-a6d6-6d6ca536276b",
   "metadata": {},
   "source": [
    "We can also ask the model to classify multiple senteces in one go. That might be useful when you use this model for your trading strategy later."
   ]
  },
  {
   "cell_type": "code",
   "execution_count": 10,
   "id": "e10578de-994b-493f-bfc8-6fbfda937c5d",
   "metadata": {},
   "outputs": [
    {
     "data": {
      "text/plain": [
       "[{'sequence': 'The sun is out today.',\n",
       "  'labels': ['Happy', 'Sad'],\n",
       "  'scores': [0.9836673140525818, 0.016332656145095825]},\n",
       " {'sequence': 'It is raining outside..',\n",
       "  'labels': ['Sad', 'Happy'],\n",
       "  'scores': [0.9559348821640015, 0.04406508430838585]}]"
      ]
     },
     "execution_count": 10,
     "metadata": {},
     "output_type": "execute_result"
    }
   ],
   "source": [
    "c(['The sun is out today.', 'It is raining outside..'], ['Happy', 'Sad'])"
   ]
  },
  {
   "cell_type": "markdown",
   "id": "3d996a1c-dfbc-49b2-8f39-2da91b030e72",
   "metadata": {},
   "source": [
    "# Free-form exploration"
   ]
  },
  {
   "cell_type": "markdown",
   "id": "89654e41-e571-4551-bb43-5afa1ff10cf1",
   "metadata": {},
   "source": [
    "Below, try a few different examples, different labels, sentence structures, and so on, to get a feel for that the model can and can't handle very well."
   ]
  },
  {
   "cell_type": "code",
   "execution_count": null,
   "id": "48bf1e84-1fbf-4565-9ea0-5e35533cb277",
   "metadata": {},
   "outputs": [],
   "source": [
    "c('Your sentence here', ['Your', 'labels', 'here'])"
   ]
  }
 ],
 "metadata": {
  "kernelspec": {
   "display_name": "Python 3",
   "language": "python",
   "name": "python3"
  },
  "language_info": {
   "codemirror_mode": {
    "name": "ipython",
    "version": 3
   },
   "file_extension": ".py",
   "mimetype": "text/x-python",
   "name": "python",
   "nbconvert_exporter": "python",
   "pygments_lexer": "ipython3",
   "version": "3.6.12"
  }
 },
 "nbformat": 4,
 "nbformat_minor": 5
}
