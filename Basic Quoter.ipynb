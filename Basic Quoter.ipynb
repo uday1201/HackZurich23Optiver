{
 "cells": [
  {
   "cell_type": "markdown",
   "id": "2f01be45-e744-42c9-ab88-03387b7a8ac5",
   "metadata": {},
   "source": [
    "# Imports & Setup"
   ]
  },
  {
   "cell_type": "code",
   "execution_count": 1,
   "id": "5aa9c918-0e4d-479f-8844-4561993923bd",
   "metadata": {},
   "outputs": [],
   "source": [
    "import datetime as dt\n",
    "import time\n",
    "import random\n",
    "import logging\n",
    "\n",
    "from optibook.synchronous_client import Exchange\n",
    "from libs import print_positions_and_pnl, round_down_to_tick, round_up_to_tick\n",
    "\n",
    "from IPython.display import clear_output\n",
    "\n",
    "logging.getLogger('client').setLevel('ERROR')"
   ]
  },
  {
   "cell_type": "markdown",
   "id": "46d6720f-be57-4e67-a95a-9b6458feda69",
   "metadata": {},
   "source": [
    "# Function definitions"
   ]
  },
  {
   "cell_type": "code",
   "execution_count": 2,
   "id": "b5b95598-04a6-483a-aca8-747daee029f9",
   "metadata": {},
   "outputs": [],
   "source": [
    "def insert_quotes(exchange, instrument, bid_price, ask_price, bid_volume, ask_volume):\n",
    "    if bid_volume > 0:\n",
    "        # Insert new bid limit order on the market\n",
    "        exchange.insert_order(\n",
    "            instrument_id=instrument.instrument_id,\n",
    "            price=bid_price,\n",
    "            volume=bid_volume,\n",
    "            side='bid',\n",
    "            order_type='limit',\n",
    "        )\n",
    "        \n",
    "        # Wait for some time to avoid breaching the exchange frequency limit\n",
    "        time.sleep(0.05)\n",
    "\n",
    "    if ask_volume > 0:\n",
    "        # Insert new ask limit order on the market\n",
    "        exchange.insert_order(\n",
    "            instrument_id=instrument.instrument_id,\n",
    "            price=ask_price,\n",
    "            volume=ask_volume,\n",
    "            side='ask',\n",
    "            order_type='limit',\n",
    "        )\n",
    "\n",
    "        # Wait for some time to avoid breaching the exchange frequency limit\n",
    "        time.sleep(0.05)"
   ]
  },
  {
   "cell_type": "markdown",
   "id": "05149b7e-70af-4e87-ac46-f396aa18bfe6",
   "metadata": {},
   "source": [
    "# Main algorithm"
   ]
  },
  {
   "cell_type": "code",
   "execution_count": 3,
   "id": "785a51b1-4b16-4356-9183-f1192a934572",
   "metadata": {},
   "outputs": [
    {
     "ename": "NameError",
     "evalue": "name 'exchange' is not defined",
     "output_type": "error",
     "traceback": [
      "\u001b[0;31m---------------------------------------------------------------------------\u001b[0m",
      "\u001b[0;31mNameError\u001b[0m                                 Traceback (most recent call last)",
      "\u001b[0;32m<ipython-input-3-b161262fdf43>\u001b[0m in \u001b[0;36m<module>\u001b[0;34m\u001b[0m\n\u001b[0;32m----> 1\u001b[0;31m \u001b[0mprint\u001b[0m\u001b[0;34m(\u001b[0m\u001b[0mexchange\u001b[0m\u001b[0;34m.\u001b[0m\u001b[0mget_positions\u001b[0m\u001b[0;34m(\u001b[0m\u001b[0;34m)\u001b[0m\u001b[0;34m[\u001b[0m\u001b[0;34m'NVDA'\u001b[0m\u001b[0;34m]\u001b[0m\u001b[0;34m)\u001b[0m\u001b[0;34m\u001b[0m\u001b[0;34m\u001b[0m\u001b[0m\n\u001b[0m",
      "\u001b[0;31mNameError\u001b[0m: name 'exchange' is not defined"
     ]
    }
   ],
   "source": [
    "\n",
    "print(exchange.get_positions()['NVDA'])"
   ]
  },
  {
   "cell_type": "code",
   "execution_count": null,
   "id": "c4ba64d3-81fd-496f-82ec-c6f798a344e3",
   "metadata": {},
   "outputs": [],
   "source": []
  },
  {
   "cell_type": "code",
   "execution_count": null,
   "id": "01bee27f-31ab-4ae6-9abb-e73cbe219f8c",
   "metadata": {},
   "outputs": [],
   "source": []
  },
  {
   "cell_type": "code",
   "execution_count": null,
   "id": "020c7a7a-92ea-4904-9a1f-de3054bf3a46",
   "metadata": {},
   "outputs": [],
   "source": []
  }
 ],
 "metadata": {
  "kernelspec": {
   "display_name": "Python 3",
   "language": "python",
   "name": "python3"
  },
  "language_info": {
   "codemirror_mode": {
    "name": "ipython",
    "version": 3
   },
   "file_extension": ".py",
   "mimetype": "text/x-python",
   "name": "python",
   "nbconvert_exporter": "python",
   "pygments_lexer": "ipython3",
   "version": "3.6.12"
  }
 },
 "nbformat": 4,
 "nbformat_minor": 5
}
