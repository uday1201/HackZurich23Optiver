{
 "cells": [
  {
   "cell_type": "markdown",
   "id": "2f01be45-e744-42c9-ab88-03387b7a8ac5",
   "metadata": {},
   "source": [
    "# Imports & Setup"
   ]
  },
  {
   "cell_type": "code",
   "execution_count": 18,
   "id": "5aa9c918-0e4d-479f-8844-4561993923bd",
   "metadata": {},
   "outputs": [
    {
     "name": "stderr",
     "output_type": "stream",
     "text": [
      "2023-09-16 14:33:46,693 [asyncio   ] [MainThread  ] Using selector: EpollSelector\n",
      "2023-09-16 14:33:46,758 [client    ] [Thread-20   ] Forcing a disconnect due to an error: Closing connection because someone else logged in with the same credentials. Only one session may be active at the same time.\n"
     ]
    },
    {
     "name": "stdout",
     "output_type": "stream",
     "text": [
      "Positions:  {'NVDA': 9, 'ING': -15, 'SAN': -3, 'PFE': 15, 'CSCO': 3}\n",
      "Positions and Cash:  {'NVDA': {'volume': 9, 'cash': -724.8}, 'ING': {'volume': -15, 'cash': 827.4}, 'SAN': {'volume': -3, 'cash': 146.7}, 'PFE': {'volume': 15, 'cash': -511.5}, 'CSCO': {'volume': 3, 'cash': -167.4000000000001}}\n",
      "Private Trade Ticks:  []\n",
      "Last Price Book:  PriceBook(NVDA 2023-09-16 14:33:46.714835)\n",
      " #bids | price | #asks \n",
      "       |  77.9 |   25  \n",
      "       |  74.7 |  500  \n",
      "       |  74.4 |  1115 \n",
      "       |  74.3 |   70  \n",
      "  320  |  74.1 |       \n",
      "   65  |  74.0 |       \n",
      "  1105 |  73.6 |       \n",
      "   12  |  54.1 |       \n",
      "   12  |  53.0 |       \n",
      "   12  |  52.5 |       \n",
      "   14  |  51.9 |       \n",
      "Trade History:  []\n",
      "Outstanding Orders:  {}\n",
      "Instruments:  {'CSCO': Instrument(instrument_id=CSCO, tick_size=0.1, price_change_limit=PriceChangeLimit(absolute_change=50.0000, relative_change=50.00%), instrument_type=InstrumentType.STOCK, instrument_group=CSCO, paused=False, expired=False), 'PFE': Instrument(instrument_id=PFE, tick_size=0.1, price_change_limit=PriceChangeLimit(absolute_change=50.0000, relative_change=50.00%), instrument_type=InstrumentType.STOCK, instrument_group=PFE, paused=False, expired=False), 'SAN': Instrument(instrument_id=SAN, tick_size=0.1, price_change_limit=PriceChangeLimit(absolute_change=50.0000, relative_change=50.00%), instrument_type=InstrumentType.STOCK, instrument_group=SAN, paused=False, expired=False), 'ING': Instrument(instrument_id=ING, tick_size=0.1, price_change_limit=PriceChangeLimit(absolute_change=50.0000, relative_change=50.00%), instrument_type=InstrumentType.STOCK, instrument_group=ING, paused=False, expired=False), 'NVDA': Instrument(instrument_id=NVDA, tick_size=0.1, price_change_limit=PriceChangeLimit(absolute_change=50.0000, relative_change=50.00%), instrument_type=InstrumentType.STOCK, instrument_group=NVDA, paused=False, expired=False)}\n",
      "asks:  [PriceVolume(price=74.3, volume=70), PriceVolume(price=74.4, volume=1115), PriceVolume(price=74.7, volume=500), PriceVolume(price=77.9, volume=25)]\n",
      "bids:  [PriceVolume(price=74.10000000000001, volume=320), PriceVolume(price=74.0, volume=65), PriceVolume(price=73.60000000000001, volume=1105), PriceVolume(price=54.1, volume=12), PriceVolume(price=53.0, volume=12), PriceVolume(price=52.5, volume=12), PriceVolume(price=51.900000000000006, volume=14)]\n"
     ]
    }
   ],
   "source": [
    "import datetime as dt\n",
    "import time\n",
    "import random\n",
    "import logging\n",
    "\n",
    "from optibook.synchronous_client import Exchange\n",
    "from libs import print_positions_and_pnl, round_down_to_tick, round_up_to_tick\n",
    "\n",
    "from IPython.display import clear_output\n",
    "\n",
    "logging.getLogger('client').setLevel('ERROR') \n",
    "\n",
    "exchange = Exchange()\n",
    "exchange.connect()\n",
    "\n",
    "\n",
    "def test():\n",
    "    #print(exchange.get_last_price_book())\n",
    "    instruments = exchange.get_instruments()\n",
    "    positions = exchange.get_positions()\n",
    "    positions_and_cash = exchange.get_positions_and_cash()\n",
    "#        public_trade_ticks = exchange.get_public_trade_ticks()\n",
    "    private_trade_ticks = exchange.poll_new_trade_ticks(\"NVDA\")\n",
    "     #   order_book = exchange.get_order_book()\n",
    "    last_price_book = exchange.get_last_price_book(\"NVDA\")\n",
    "    bid_volumes = last_price_book.bids\n",
    "    ask_volumes = last_price_book.asks\n",
    "    \n",
    "    trade_history = exchange.get_trade_history(\"NVDA\")\n",
    "    outstanding_orders = exchange.get_outstanding_orders(\"NVDA\")\n",
    "    print(\"Positions: \", positions)\n",
    "    print(\"Positions and Cash: \", positions_and_cash)\n",
    "    #    print(\"Public Trade Ticks: \", public_trade_ticks)\n",
    "    print(\"Private Trade Ticks: \", private_trade_ticks)\n",
    "      #  print(\"Order Book: \", order_book)\n",
    "    print(\"Last Price Book: \", last_price_book)\n",
    "    print(\"Trade History: \", trade_history)\n",
    "    print(\"Outstanding Orders: \", outstanding_orders)\n",
    "    print(\"Instruments: \", instruments)\n",
    "    #while True:\n",
    "    print(\"asks: \", ask_volumes)\n",
    "    print(\"bids: \", bid_volumes)\n",
    "        \n",
    "     #   time.sleep(1.0)\n",
    "\n",
    "         \n",
    " \n",
    "\n",
    "test()"
   ]
  },
  {
   "cell_type": "markdown",
   "id": "46d6720f-be57-4e67-a95a-9b6458feda69",
   "metadata": {},
   "source": [
    "# Function definitions"
   ]
  },
  {
   "cell_type": "code",
   "execution_count": 4,
   "id": "b5b95598-04a6-483a-aca8-747daee029f9",
   "metadata": {},
   "outputs": [],
   "source": [
    "def insert_quotes(exchange, instrument, bid_price, ask_price, bid_volume, ask_volume):\n",
    "    if bid_volume > 0:\n",
    "        # Insert new bid limit order on the market\n",
    "        exchange.insert_order(\n",
    "            instrument_id=instrument.instrument_id,\n",
    "            price=bid_price,\n",
    "            volume=bid_volume,\n",
    "            side='bid',\n",
    "            order_type='limit',\n",
    "        )\n",
    "        \n",
    "        # Wait for some time to avoid breaching the exchange frequency limit\n",
    "        time.sleep(0.05)\n",
    "\n",
    "    if ask_volume > 0:\n",
    "        # Insert new ask limit order on the market\n",
    "        exchange.insert_order(\n",
    "            instrument_id=instrument.instrument_id,\n",
    "            price=ask_price,\n",
    "            volume=ask_volume,\n",
    "            side='ask',\n",
    "            order_type='limit',\n",
    "        )\n",
    "\n",
    "        # Wait for some time to avoid breaching the exchange frequency limit\n",
    "        time.sleep(0.05)"
   ]
  },
  {
   "cell_type": "markdown",
   "id": "05149b7e-70af-4e87-ac46-f396aa18bfe6",
   "metadata": {},
   "source": [
    "# Main algorithm"
   ]
  },
  {
   "cell_type": "code",
   "execution_count": 13,
   "id": "785a51b1-4b16-4356-9183-f1192a934572",
   "metadata": {},
   "outputs": [
    {
     "name": "stdout",
     "output_type": "stream",
     "text": [
      "5\n"
     ]
    }
   ],
   "source": [
    "print(exchange.get_positions()['NVDA'])"
   ]
  },
  {
   "cell_type": "code",
   "execution_count": 17,
   "id": "a6119903-45f3-4f9e-847f-4340b33be0bf",
   "metadata": {},
   "outputs": [
    {
     "name": "stdout",
     "output_type": "stream",
     "text": [
      "\n",
      "-----------------------------------------------------------------\n",
      "TRADE LOOP ITERATION ENTERED AT 2023-09-16 00:22:38.549476 UTC.\n",
      "-----------------------------------------------------------------\n",
      "Positions:\n",
      "  NVDA      :  -57\n",
      "  ING       :   91\n",
      "  SAN       :   64\n",
      "  PFE       :  -25\n",
      "  CSCO      :    5\n",
      "\n",
      "PnL: -1731.70\n",
      "\n",
      "          (ourbid) mktbid :: mktask (ourask)\n",
      "  CSCO -- ( 65.18)  65.20 ::  65.30 ( 65.32)\n"
     ]
    },
    {
     "name": "stderr",
     "output_type": "stream",
     "text": [
      "2023-09-16 00:22:38,844 [client    ] [Thread-15   ] Forcing a disconnect due to an error: Closing connection because someone else logged in with the same credentials. Only one session may be active at the same time.\n"
     ]
    },
    {
     "name": "stdout",
     "output_type": "stream",
     "text": [
      "   PFE -- ( 27.53)  27.50 ::  27.70 ( 27.67)\n"
     ]
    },
    {
     "ename": "KjException",
     "evalue": "(remote):0: failed: remote exception: expected !mWaitingToBeDisconnected; A disconnect was requested for this connection. No further messages are allowed\nstack: 7fa02a3e3cc0 7fa02a3e2540 7fa02a3666d6 7fa02a354612 7fa02a354749 7fa02a349c74 7fa02a2b2639 7fa02a32b673 7fa04c91fcc0 7fa04c88fe4e 7fa03f3f4cba 7fa03f3f6293 7fa04c87f0a2 7fa04c91be68 7fa04c925569 7fa04c925992 7fa04c91a2c6 7fa04c925569 7fa04c925992 7fa04c91a2c6 7fa04c925569 7fa04c925992 7fa04c91a2c6 7fa04c925569 7fa04c925992 7fa04c91a2c6 7fa04c926b01 7fa04c87f31d 7fa04c87f421 7fa04c87f0a2 7fa04c91be68 7fa04c925569",
     "output_type": "error",
     "traceback": [
      "\u001b[0;31m---------------------------------------------------------------------------\u001b[0m",
      "\u001b[0;31mKjException\u001b[0m                               Traceback (most recent call last)",
      "\u001b[0;32m<ipython-input-17-68683ef74ef0>\u001b[0m in \u001b[0;36m<module>\u001b[0;34m\u001b[0m\n\u001b[1;32m     60\u001b[0m \u001b[0;34m\u001b[0m\u001b[0m\n\u001b[1;32m     61\u001b[0m         \u001b[0;31m# Insert new quotes\u001b[0m\u001b[0;34m\u001b[0m\u001b[0;34m\u001b[0m\u001b[0;34m\u001b[0m\u001b[0m\n\u001b[0;32m---> 62\u001b[0;31m         \u001b[0minsert_quotes\u001b[0m\u001b[0;34m(\u001b[0m\u001b[0mexchange\u001b[0m\u001b[0;34m,\u001b[0m \u001b[0minstrument\u001b[0m\u001b[0;34m,\u001b[0m \u001b[0mbid_price\u001b[0m\u001b[0;34m,\u001b[0m \u001b[0mask_price\u001b[0m\u001b[0;34m,\u001b[0m \u001b[0mbid_volume\u001b[0m\u001b[0;34m,\u001b[0m \u001b[0mask_volume\u001b[0m\u001b[0;34m)\u001b[0m\u001b[0;34m\u001b[0m\u001b[0;34m\u001b[0m\u001b[0m\n\u001b[0m\u001b[1;32m     63\u001b[0m \u001b[0;34m\u001b[0m\u001b[0m\n\u001b[1;32m     64\u001b[0m     \u001b[0;31m# Wait for a few seconds to refresh the quotes\u001b[0m\u001b[0;34m\u001b[0m\u001b[0;34m\u001b[0m\u001b[0;34m\u001b[0m\u001b[0m\n",
      "\u001b[0;32m<ipython-input-4-c6a0a0f9e2d6>\u001b[0m in \u001b[0;36minsert_quotes\u001b[0;34m(exchange, instrument, bid_price, ask_price, bid_volume, ask_volume)\u001b[0m\n\u001b[1;32m      7\u001b[0m             \u001b[0mvolume\u001b[0m\u001b[0;34m=\u001b[0m\u001b[0mbid_volume\u001b[0m\u001b[0;34m,\u001b[0m\u001b[0;34m\u001b[0m\u001b[0;34m\u001b[0m\u001b[0m\n\u001b[1;32m      8\u001b[0m             \u001b[0mside\u001b[0m\u001b[0;34m=\u001b[0m\u001b[0;34m'bid'\u001b[0m\u001b[0;34m,\u001b[0m\u001b[0;34m\u001b[0m\u001b[0;34m\u001b[0m\u001b[0m\n\u001b[0;32m----> 9\u001b[0;31m             \u001b[0morder_type\u001b[0m\u001b[0;34m=\u001b[0m\u001b[0;34m'limit'\u001b[0m\u001b[0;34m,\u001b[0m\u001b[0;34m\u001b[0m\u001b[0;34m\u001b[0m\u001b[0m\n\u001b[0m\u001b[1;32m     10\u001b[0m         )\n\u001b[1;32m     11\u001b[0m \u001b[0;34m\u001b[0m\u001b[0m\n",
      "\u001b[0;32m~/.local/lib/python3.6/site-packages/optibook/synchronous_client.py\u001b[0m in \u001b[0;36minsert_order\u001b[0;34m(self, instrument_id, price, volume, side, order_type)\u001b[0m\n\u001b[1;32m    119\u001b[0m \u001b[0;34m\u001b[0m\u001b[0m\n\u001b[1;32m    120\u001b[0m         return self._wrapper.run_on_loop(\n\u001b[0;32m--> 121\u001b[0;31m             \u001b[0mself\u001b[0m\u001b[0;34m.\u001b[0m\u001b[0m_e\u001b[0m\u001b[0;34m.\u001b[0m\u001b[0minsert_order\u001b[0m\u001b[0;34m(\u001b[0m\u001b[0minstrument_id\u001b[0m\u001b[0;34m=\u001b[0m\u001b[0minstrument_id\u001b[0m\u001b[0;34m,\u001b[0m \u001b[0mprice\u001b[0m\u001b[0;34m=\u001b[0m\u001b[0mprice\u001b[0m\u001b[0;34m,\u001b[0m \u001b[0mvolume\u001b[0m\u001b[0;34m=\u001b[0m\u001b[0mvolume\u001b[0m\u001b[0;34m,\u001b[0m \u001b[0mside\u001b[0m\u001b[0;34m=\u001b[0m\u001b[0mside\u001b[0m\u001b[0;34m,\u001b[0m \u001b[0morder_type\u001b[0m\u001b[0;34m=\u001b[0m\u001b[0morder_type\u001b[0m\u001b[0;34m)\u001b[0m\u001b[0;34m\u001b[0m\u001b[0;34m\u001b[0m\u001b[0m\n\u001b[0m\u001b[1;32m    122\u001b[0m         )\n\u001b[1;32m    123\u001b[0m \u001b[0;34m\u001b[0m\u001b[0m\n",
      "\u001b[0;32m~/.local/lib/python3.6/site-packages/optibook/synchronous_wrapper.py\u001b[0m in \u001b[0;36mrun_on_loop\u001b[0;34m(self, awaitable)\u001b[0m\n\u001b[1;32m     80\u001b[0m             \u001b[0mself\u001b[0m\u001b[0;34m.\u001b[0m\u001b[0mdisconnect\u001b[0m\u001b[0;34m(\u001b[0m\u001b[0;34m)\u001b[0m\u001b[0;34m\u001b[0m\u001b[0;34m\u001b[0m\u001b[0m\n\u001b[1;32m     81\u001b[0m \u001b[0;34m\u001b[0m\u001b[0m\n\u001b[0;32m---> 82\u001b[0;31m         \u001b[0mret\u001b[0m \u001b[0;34m=\u001b[0m \u001b[0mfut\u001b[0m\u001b[0;34m.\u001b[0m\u001b[0mresult\u001b[0m\u001b[0;34m(\u001b[0m\u001b[0;34m)\u001b[0m\u001b[0;34m\u001b[0m\u001b[0;34m\u001b[0m\u001b[0m\n\u001b[0m\u001b[1;32m     83\u001b[0m         \u001b[0mend_time\u001b[0m \u001b[0;34m=\u001b[0m \u001b[0mdatetime\u001b[0m\u001b[0;34m.\u001b[0m\u001b[0mdatetime\u001b[0m\u001b[0;34m.\u001b[0m\u001b[0mnow\u001b[0m\u001b[0;34m(\u001b[0m\u001b[0;34m)\u001b[0m\u001b[0;34m\u001b[0m\u001b[0;34m\u001b[0m\u001b[0m\n\u001b[1;32m     84\u001b[0m         \u001b[0mdiff\u001b[0m \u001b[0;34m=\u001b[0m \u001b[0mend_time\u001b[0m \u001b[0;34m-\u001b[0m \u001b[0mstart_time\u001b[0m\u001b[0;34m\u001b[0m\u001b[0;34m\u001b[0m\u001b[0m\n",
      "\u001b[0;32m/usr/lib64/python3.6/concurrent/futures/_base.py\u001b[0m in \u001b[0;36mresult\u001b[0;34m(self, timeout)\u001b[0m\n\u001b[1;32m    423\u001b[0m                 \u001b[0;32mraise\u001b[0m \u001b[0mCancelledError\u001b[0m\u001b[0;34m(\u001b[0m\u001b[0;34m)\u001b[0m\u001b[0;34m\u001b[0m\u001b[0;34m\u001b[0m\u001b[0m\n\u001b[1;32m    424\u001b[0m             \u001b[0;32melif\u001b[0m \u001b[0mself\u001b[0m\u001b[0;34m.\u001b[0m\u001b[0m_state\u001b[0m \u001b[0;34m==\u001b[0m \u001b[0mFINISHED\u001b[0m\u001b[0;34m:\u001b[0m\u001b[0;34m\u001b[0m\u001b[0;34m\u001b[0m\u001b[0m\n\u001b[0;32m--> 425\u001b[0;31m                 \u001b[0;32mreturn\u001b[0m \u001b[0mself\u001b[0m\u001b[0;34m.\u001b[0m\u001b[0m__get_result\u001b[0m\u001b[0;34m(\u001b[0m\u001b[0;34m)\u001b[0m\u001b[0;34m\u001b[0m\u001b[0;34m\u001b[0m\u001b[0m\n\u001b[0m\u001b[1;32m    426\u001b[0m \u001b[0;34m\u001b[0m\u001b[0m\n\u001b[1;32m    427\u001b[0m             \u001b[0mself\u001b[0m\u001b[0;34m.\u001b[0m\u001b[0m_condition\u001b[0m\u001b[0;34m.\u001b[0m\u001b[0mwait\u001b[0m\u001b[0;34m(\u001b[0m\u001b[0mtimeout\u001b[0m\u001b[0;34m)\u001b[0m\u001b[0;34m\u001b[0m\u001b[0;34m\u001b[0m\u001b[0m\n",
      "\u001b[0;32m/usr/lib64/python3.6/concurrent/futures/_base.py\u001b[0m in \u001b[0;36m__get_result\u001b[0;34m(self)\u001b[0m\n\u001b[1;32m    382\u001b[0m     \u001b[0;32mdef\u001b[0m \u001b[0m__get_result\u001b[0m\u001b[0;34m(\u001b[0m\u001b[0mself\u001b[0m\u001b[0;34m)\u001b[0m\u001b[0;34m:\u001b[0m\u001b[0;34m\u001b[0m\u001b[0;34m\u001b[0m\u001b[0m\n\u001b[1;32m    383\u001b[0m         \u001b[0;32mif\u001b[0m \u001b[0mself\u001b[0m\u001b[0;34m.\u001b[0m\u001b[0m_exception\u001b[0m\u001b[0;34m:\u001b[0m\u001b[0;34m\u001b[0m\u001b[0;34m\u001b[0m\u001b[0m\n\u001b[0;32m--> 384\u001b[0;31m             \u001b[0;32mraise\u001b[0m \u001b[0mself\u001b[0m\u001b[0;34m.\u001b[0m\u001b[0m_exception\u001b[0m\u001b[0;34m\u001b[0m\u001b[0;34m\u001b[0m\u001b[0m\n\u001b[0m\u001b[1;32m    385\u001b[0m         \u001b[0;32melse\u001b[0m\u001b[0;34m:\u001b[0m\u001b[0;34m\u001b[0m\u001b[0;34m\u001b[0m\u001b[0m\n\u001b[1;32m    386\u001b[0m             \u001b[0;32mreturn\u001b[0m \u001b[0mself\u001b[0m\u001b[0;34m.\u001b[0m\u001b[0m_result\u001b[0m\u001b[0;34m\u001b[0m\u001b[0;34m\u001b[0m\u001b[0m\n",
      "\u001b[0;32m~/.local/lib/python3.6/site-packages/optibook/exchange_client.py\u001b[0m in \u001b[0;36minsert_order\u001b[0;34m(self, instrument_id, price, volume, side, order_type)\u001b[0m\n\u001b[1;32m    330\u001b[0m         \u001b[0;32massert\u001b[0m \u001b[0mside\u001b[0m \u001b[0;32min\u001b[0m \u001b[0mALL_SIDES\u001b[0m\u001b[0;34m,\u001b[0m \u001b[0;34mf\"side must be one of {ALL_SIDES}\"\u001b[0m\u001b[0;34m\u001b[0m\u001b[0;34m\u001b[0m\u001b[0m\n\u001b[1;32m    331\u001b[0m         \u001b[0;32massert\u001b[0m \u001b[0morder_type\u001b[0m \u001b[0;32min\u001b[0m \u001b[0mALL_ORDER_TYPES\u001b[0m\u001b[0;34m,\u001b[0m \u001b[0;34mf\"order_type must be one of {ALL_ORDER_TYPES}\"\u001b[0m\u001b[0;34m\u001b[0m\u001b[0;34m\u001b[0m\u001b[0m\n\u001b[0;32m--> 332\u001b[0;31m         \u001b[0mresult\u001b[0m \u001b[0;34m=\u001b[0m \u001b[0mawait\u001b[0m \u001b[0mself\u001b[0m\u001b[0;34m.\u001b[0m\u001b[0m_exec\u001b[0m\u001b[0;34m.\u001b[0m\u001b[0minsertOrder\u001b[0m\u001b[0;34m(\u001b[0m\u001b[0minstrument_id\u001b[0m\u001b[0;34m,\u001b[0m \u001b[0mprice\u001b[0m\u001b[0;34m,\u001b[0m \u001b[0mvolume\u001b[0m\u001b[0;34m,\u001b[0m \u001b[0mside\u001b[0m\u001b[0;34m,\u001b[0m \u001b[0morder_type\u001b[0m\u001b[0;34m)\u001b[0m\u001b[0;34m.\u001b[0m\u001b[0ma_wait\u001b[0m\u001b[0;34m(\u001b[0m\u001b[0;34m)\u001b[0m\u001b[0;34m\u001b[0m\u001b[0;34m\u001b[0m\u001b[0m\n\u001b[0m\u001b[1;32m    333\u001b[0m         \u001b[0;32mif\u001b[0m \u001b[0;32mnot\u001b[0m \u001b[0mresult\u001b[0m\u001b[0;34m.\u001b[0m\u001b[0msuccess\u001b[0m\u001b[0;34m:\u001b[0m\u001b[0;34m\u001b[0m\u001b[0;34m\u001b[0m\u001b[0m\n\u001b[1;32m    334\u001b[0m             \u001b[0mlogger\u001b[0m\u001b[0;34m.\u001b[0m\u001b[0mwarning\u001b[0m\u001b[0;34m(\u001b[0m\u001b[0;34mf'order insert failed with reason: {result.errorReason}'\u001b[0m\u001b[0;34m)\u001b[0m\u001b[0;34m\u001b[0m\u001b[0;34m\u001b[0m\u001b[0m\n",
      "\u001b[0;32m~/.local/lib/python3.6/site-packages/capnp/lib/capnp.pyx\u001b[0m in \u001b[0;36ma_wait\u001b[0;34m()\u001b[0m\n",
      "\u001b[0;31mKjException\u001b[0m: (remote):0: failed: remote exception: expected !mWaitingToBeDisconnected; A disconnect was requested for this connection. No further messages are allowed\nstack: 7fa02a3e3cc0 7fa02a3e2540 7fa02a3666d6 7fa02a354612 7fa02a354749 7fa02a349c74 7fa02a2b2639 7fa02a32b673 7fa04c91fcc0 7fa04c88fe4e 7fa03f3f4cba 7fa03f3f6293 7fa04c87f0a2 7fa04c91be68 7fa04c925569 7fa04c925992 7fa04c91a2c6 7fa04c925569 7fa04c925992 7fa04c91a2c6 7fa04c925569 7fa04c925992 7fa04c91a2c6 7fa04c925569 7fa04c925992 7fa04c91a2c6 7fa04c926b01 7fa04c87f31d 7fa04c87f421 7fa04c87f0a2 7fa04c91be68 7fa04c925569"
     ]
    }
   ],
   "source": [
    "exchange = Exchange()\n",
    "exchange.connect()\n",
    "\n",
    "INSTRUMENTS = exchange.get_instruments()\n",
    "\n",
    "# things we edit depending on the sentiment and liquidity\n",
    "QUOTED_VOLUME = 3\n",
    "FIXED_MINIMUM_CREDIT = 0.07\n",
    "PRICE_RETREAT_PER_LOT = 0.005\n",
    "POSITION_LIMIT = 100\n",
    "\n",
    "\n",
    "def spread(bid_price, ask_price):\n",
    "    # Spread & Liquidity\n",
    "    bid_ask_spread = best_ask_price - best_bid_price \n",
    "    spread_percentage = (bid_ask_spread / best_ask_price) * 100\n",
    "    print(f'Spread Info: {bid_ask_spread:>6.2f}, {spread_percentage:>6.2f}')\n",
    "    \n",
    "    return bid_ask_spread,spread_percentage\n",
    "\n",
    "# \n",
    "def first_layer_evaluation: \n",
    "    # Obtain best bid and ask prices from order book to determine mid price\n",
    "    best_bid_price = instrument_order_book.bids[0].price\n",
    "    best_ask_price = instrument_order_book.asks[0].price\n",
    "    mid_price = (best_bid_price + best_ask_price) / 2.0 \n",
    "        \n",
    "    # Calculate our fair/theoretical price based on the market mid price and our current position\n",
    "    theoretical_price = mid_price #- PRICE_RETREAT_PER_LOT * position\n",
    "\n",
    "    # Calculate final bid and ask prices to insert\n",
    "    bid_price = round_down_to_tick(theoretical_price - FIXED_MINIMUM_CREDIT, instrument.tick_size)\n",
    "    ask_price = round_up_to_tick(theoretical_price + FIXED_MINIMUM_CREDIT, instrument.tick_size)\n",
    "        \n",
    "        \n",
    "        #bid_price = round_down_to_tick(theoretical_price - FIXED_MINIMUM_CREDIT, instrument.tick_size)\n",
    "        #ask_price = round_up_to_tick(theoretical_price + FIXED_MINIMUM_CREDIT, instrument.tick_size)\n",
    "        \n",
    "        \n",
    "        #bid_price = theoretical_price - FIXED_MINIMUM_CREDIT\n",
    "        #ask_price = theoretical_price + FIXED_MINIMUM_CREDIT\n",
    "        \n",
    "    # Calculate bid and ask volumes to insert, taking into account the exchange position_limit\n",
    "    max_volume_to_buy = POSITION_LIMIT - position\n",
    "    max_volume_to_sell = POSITION_LIMIT + position\n",
    "\n",
    "    bid_volume = min(QUOTED_VOLUME, max_volume_to_buy)\n",
    "    ask_volume = min(QUOTED_VOLUME, max_volume_to_sell)\n",
    "\n",
    "    # Display information for tracking the algorithm's actions\n",
    "    print(f'{instrument.instrument_id:>6s} -- ({bid_price:>6.2f}) {best_bid_price:>6.2f} :: {best_ask_price:>6.2f} ({ask_price:>6.2f})')\n",
    "        \n",
    "    # Insert new quotes\n",
    "    insert_quotes(exchange, instrument, bid_price, ask_price, bid_volume, ask_volume)\n",
    "\n",
    "\n",
    "while True:\n",
    "    print(f'')\n",
    "    print(f'-----------------------------------------------------------------')\n",
    "    print(f'TRADE LOOP ITERATION ENTERED AT {str(dt.datetime.now()):18s} UTC.')\n",
    "    print(f'-----------------------------------------------------------------')\n",
    "\n",
    "    # Display our own current positions in all stocks, and our PnL so far\n",
    "    print_positions_and_pnl(exchange)\n",
    "    print(f'')\n",
    "    print(f'          (ourbid) mktbid :: mktask (ourask)')\n",
    "    \n",
    "    for instrument in INSTRUMENTS.values():\n",
    "        # Remove all existing (still) outstanding limit orders\n",
    "        exchange.delete_orders(instrument.instrument_id)\n",
    "    \n",
    "        # Obtain order book and only skip this instrument if there are no bids or offers available at all on that instrument,\n",
    "        # as we we want to use the mid price to determine our own quoted price\n",
    "        instrument_order_book = exchange.get_last_price_book(instrument.instrument_id)\n",
    "        if not (instrument_order_book and instrument_order_book.bids and instrument_order_book.asks):\n",
    "            print(f'{instrument.instrument_id:>6s} --     INCOMPLETE ORDER BOOK')\n",
    "            continue\n",
    "    \n",
    "        # Obtain own current position in instrument\n",
    "        position = exchange.get_positions()[instrument.instrument_id]\n",
    "        # first layer for immediate response \n",
    "        \n",
    "        \n",
    "        \n",
    "        \n",
    "        \n",
    "    # Wait for a few seconds to refresh the quotes\n",
    "    print(f'\\nWaiting for 2 seconds.')\n",
    "    time.sleep(0.05)\n",
    "    \n",
    "    # Clear the displayed information after waiting\n",
    "    clear_output(wait=True)"
   ]
  },
  {
   "cell_type": "raw",
   "id": "9fe7bd09-4c61-4676-a4d6-abf614314dc7",
   "metadata": {},
   "source": []
  }
 ],
 "metadata": {
  "kernelspec": {
   "display_name": "Python 3",
   "language": "python",
   "name": "python3"
  },
  "language_info": {
   "codemirror_mode": {
    "name": "ipython",
    "version": 3
   },
   "file_extension": ".py",
   "mimetype": "text/x-python",
   "name": "python",
   "nbconvert_exporter": "python",
   "pygments_lexer": "ipython3",
   "version": "3.6.12"
  }
 },
 "nbformat": 4,
 "nbformat_minor": 5
}
